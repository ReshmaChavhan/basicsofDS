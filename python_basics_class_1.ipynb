{
  "nbformat": 4,
  "nbformat_minor": 0,
  "metadata": {
    "colab": {
      "provenance": []
    },
    "kernelspec": {
      "name": "python3",
      "display_name": "Python 3"
    },
    "language_info": {
      "name": "python"
    }
  },
  "cells": [
    {
      "cell_type": "markdown",
      "source": [
        "## Python Class 1 - command to execute is shift+enter"
      ],
      "metadata": {
        "id": "YMWwam2U7u4C"
      }
    },
    {
      "cell_type": "markdown",
      "source": [
        "## Comments in Python"
      ],
      "metadata": {
        "id": "ztcKyVtm8bg6"
      }
    },
    {
      "cell_type": "code",
      "source": [
        "# Comment means an non executable code\n",
        "\n",
        "# Single line comment\n",
        "\n",
        "'''\n",
        "MUltiline comments\n",
        "'''\n"
      ],
      "metadata": {
        "colab": {
          "base_uri": "https://localhost:8080/",
          "height": 35
        },
        "id": "vMHNqh-Y8bI1",
        "outputId": "10968b2d-1133-494e-efdd-986d9344edcc"
      },
      "execution_count": null,
      "outputs": [
        {
          "output_type": "execute_result",
          "data": {
            "text/plain": [
              "'\\nMUltiline comments\\n'"
            ],
            "application/vnd.google.colaboratory.intrinsic+json": {
              "type": "string"
            }
          },
          "metadata": {},
          "execution_count": 1
        }
      ]
    },
    {
      "cell_type": "markdown",
      "source": [
        "## Print functions in Python"
      ],
      "metadata": {
        "id": "IaCUXPqiG5Lq"
      }
    },
    {
      "cell_type": "code",
      "source": [
        "\n",
        "#keywords are group of words that have a specific functionality\n",
        "print (\"Hello World\")"
      ],
      "metadata": {
        "colab": {
          "base_uri": "https://localhost:8080/"
        },
        "id": "9cvKyTyfG8uu",
        "outputId": "9f44bb84-e08c-4572-b5d2-81c981d3f454"
      },
      "execution_count": null,
      "outputs": [
        {
          "output_type": "stream",
          "name": "stdout",
          "text": [
            "Hello World\n"
          ]
        }
      ]
    },
    {
      "cell_type": "code",
      "source": [
        "#to check version of python\n",
        "!python --version"
      ],
      "metadata": {
        "colab": {
          "base_uri": "https://localhost:8080/"
        },
        "id": "GJUXhPO8HSHZ",
        "outputId": "8f2304f9-2bca-48a0-c30d-c6158385e0e6"
      },
      "execution_count": null,
      "outputs": [
        {
          "output_type": "stream",
          "name": "stdout",
          "text": [
            "Python 3.10.12\n"
          ]
        }
      ]
    },
    {
      "cell_type": "code",
      "source": [
        "'''\n",
        "Python is a interpretor.\n",
        "\n",
        "code -> Compiler/interpretor(Syntax check) -> MachineCode\n",
        "\n",
        "Compiler : Tries to execute the code at once\n",
        "Interpretor : tries to compile the code line by line\n",
        "'''"
      ],
      "metadata": {
        "id": "zRDA2-w8Hvox"
      },
      "execution_count": null,
      "outputs": []
    },
    {
      "cell_type": "markdown",
      "source": [
        "## Indentation"
      ],
      "metadata": {
        "id": "tXp9IYQ1Cump"
      }
    },
    {
      "cell_type": "code",
      "source": [
        "if 5 > 2:\n",
        "  print ('Five is greater than two')"
      ],
      "metadata": {
        "colab": {
          "base_uri": "https://localhost:8080/"
        },
        "id": "JjGdyaRSCfcl",
        "outputId": "19a2d176-9d16-4104-c2da-3b1b8571fc00"
      },
      "execution_count": null,
      "outputs": [
        {
          "output_type": "stream",
          "name": "stdout",
          "text": [
            "Five is greater than two\n"
          ]
        }
      ]
    },
    {
      "cell_type": "code",
      "source": [
        "if 5 > 2:\n",
        "  print ('hello')\n",
        "  if 3 < 7:\n",
        "    print ('hi')\n",
        "    print ('1')\n",
        "\n",
        "print ('Five is greater than two')"
      ],
      "metadata": {
        "colab": {
          "base_uri": "https://localhost:8080/"
        },
        "id": "4ho19yvFDmoy",
        "outputId": "2599ac60-cdd8-4b18-82e9-b9b7b112cd7a"
      },
      "execution_count": null,
      "outputs": [
        {
          "output_type": "stream",
          "name": "stdout",
          "text": [
            "hello\n",
            "hi\n",
            "1\n",
            "Five is greater than two\n"
          ]
        }
      ]
    },
    {
      "cell_type": "code",
      "source": [
        "# This is a python class\n",
        "\n",
        "'''\n",
        "This is Ajay\n",
        "DataScientist at DELL\n",
        "'''"
      ],
      "metadata": {
        "colab": {
          "base_uri": "https://localhost:8080/",
          "height": 35
        },
        "id": "v98746mnDvRf",
        "outputId": "a31495ee-7707-400d-bc5e-e91f547b61d4"
      },
      "execution_count": null,
      "outputs": [
        {
          "output_type": "execute_result",
          "data": {
            "text/plain": [
              "'\\nThis is Ajay\\nDataScientist at DELL\\n'"
            ],
            "application/vnd.google.colaboratory.intrinsic+json": {
              "type": "string"
            }
          },
          "metadata": {},
          "execution_count": 5
        }
      ]
    },
    {
      "cell_type": "markdown",
      "source": [
        "## Variables"
      ],
      "metadata": {
        "id": "Wj5AmTEPFo4m"
      }
    },
    {
      "cell_type": "code",
      "source": [
        "#variables are something that tend to change\n",
        "x = 5\n",
        "y = \"King\" # all the words or sentences should be in \"\"\n",
        "print (x)\n",
        "print (y)"
      ],
      "metadata": {
        "colab": {
          "base_uri": "https://localhost:8080/"
        },
        "id": "TSt7tGTwFWV7",
        "outputId": "96bdf51f-3368-4f1b-af5a-daed64bb0dfa"
      },
      "execution_count": null,
      "outputs": [
        {
          "output_type": "stream",
          "name": "stdout",
          "text": [
            "5\n",
            "King\n"
          ]
        }
      ]
    },
    {
      "cell_type": "code",
      "source": [
        "#variable values can be replaced\n",
        "x = 5\n",
        "print (x)\n",
        "x = 'Ram'\n",
        "print (x)"
      ],
      "metadata": {
        "colab": {
          "base_uri": "https://localhost:8080/"
        },
        "id": "TjpMOYAOGC_-",
        "outputId": "7ea85d7d-08ff-4fc1-9899-e872484c8dbd"
      },
      "execution_count": null,
      "outputs": [
        {
          "output_type": "stream",
          "name": "stdout",
          "text": [
            "5\n",
            "Ram\n"
          ]
        }
      ]
    },
    {
      "cell_type": "code",
      "source": [
        "x = 10\n",
        "if x > 5:\n",
        "  print ('Hello world')"
      ],
      "metadata": {
        "colab": {
          "base_uri": "https://localhost:8080/"
        },
        "id": "4lzpz9ITGtrk",
        "outputId": "b0b703f7-46a2-4b5c-c07f-9a89d554915e"
      },
      "execution_count": null,
      "outputs": [
        {
          "output_type": "stream",
          "name": "stdout",
          "text": [
            "Hello world\n"
          ]
        }
      ]
    },
    {
      "cell_type": "markdown",
      "source": [
        "## Casting"
      ],
      "metadata": {
        "id": "SeX-_nX_HKSx"
      }
    },
    {
      "cell_type": "code",
      "source": [
        "x = 3\n",
        "print (type(x)) # type is the keyword to find the datatype in python"
      ],
      "metadata": {
        "colab": {
          "base_uri": "https://localhost:8080/"
        },
        "id": "lB9fkOidG_rr",
        "outputId": "919a9985-f630-40b6-c1c6-96d5d2b83102"
      },
      "execution_count": null,
      "outputs": [
        {
          "output_type": "stream",
          "name": "stdout",
          "text": [
            "<class 'int'>\n"
          ]
        }
      ]
    },
    {
      "cell_type": "code",
      "source": [
        "x = int(3)\n",
        "x = str(3)\n",
        "x = float(3)"
      ],
      "metadata": {
        "id": "LfFD0jtjHmsV"
      },
      "execution_count": null,
      "outputs": []
    },
    {
      "cell_type": "code",
      "source": [
        "x"
      ],
      "metadata": {
        "colab": {
          "base_uri": "https://localhost:8080/"
        },
        "id": "G0wH8U-sH0VW",
        "outputId": "9505c2c7-4073-4029-c1da-5ae46b7b26a1"
      },
      "execution_count": null,
      "outputs": [
        {
          "output_type": "execute_result",
          "data": {
            "text/plain": [
              "3.0"
            ]
          },
          "metadata": {},
          "execution_count": 11
        }
      ]
    },
    {
      "cell_type": "code",
      "source": [
        "# declare a variable x with 100 and convert it to string and print\n",
        "\n",
        "x = 100\n",
        "y = str(x)\n",
        "print (y)"
      ],
      "metadata": {
        "colab": {
          "base_uri": "https://localhost:8080/"
        },
        "id": "aSlZxZNCH6SW",
        "outputId": "e63d6e97-7175-4b45-8c9d-7bed8aff1b51"
      },
      "execution_count": null,
      "outputs": [
        {
          "output_type": "stream",
          "name": "stdout",
          "text": [
            "100\n"
          ]
        }
      ]
    },
    {
      "cell_type": "code",
      "source": [
        "str(100)"
      ],
      "metadata": {
        "colab": {
          "base_uri": "https://localhost:8080/",
          "height": 35
        },
        "id": "JzUnblL9IRF_",
        "outputId": "f8cc7c3d-297c-4da3-988d-3b43d5f53b95"
      },
      "execution_count": null,
      "outputs": [
        {
          "output_type": "execute_result",
          "data": {
            "text/plain": [
              "'100'"
            ],
            "application/vnd.google.colaboratory.intrinsic+json": {
              "type": "string"
            }
          },
          "metadata": {},
          "execution_count": 14
        }
      ]
    },
    {
      "cell_type": "code",
      "source": [
        "x = \"John\"\n",
        "x = 'John'\n",
        "# python '' or \"\" mean the same"
      ],
      "metadata": {
        "id": "7s7qe7HRIYdT"
      },
      "execution_count": null,
      "outputs": []
    },
    {
      "cell_type": "code",
      "source": [
        "x = 'Ajay'\n",
        "if x == 'Ajay':\n",
        "  print ('My name is Ajay')"
      ],
      "metadata": {
        "colab": {
          "base_uri": "https://localhost:8080/"
        },
        "id": "NsAgpFbRIwfI",
        "outputId": "16031be1-f7f9-4ebb-cbe1-9bc3d987cfbe"
      },
      "execution_count": null,
      "outputs": [
        {
          "output_type": "stream",
          "name": "stdout",
          "text": [
            "My name is Ajay\n"
          ]
        }
      ]
    },
    {
      "cell_type": "code",
      "source": [
        "# formatting\n",
        "x = 'Ajay'\n",
        "if x == 'Ajay':\n",
        "  print (f'My name is {x}')"
      ],
      "metadata": {
        "colab": {
          "base_uri": "https://localhost:8080/"
        },
        "id": "CRABbGhfJdrT",
        "outputId": "6bca2f1a-3cf7-4734-982b-84d67b4d402f"
      },
      "execution_count": null,
      "outputs": [
        {
          "output_type": "stream",
          "name": "stdout",
          "text": [
            "My name is Ajay\n"
          ]
        }
      ]
    },
    {
      "cell_type": "code",
      "source": [
        "apples = 40\n",
        "oranges = 20\n",
        "\n",
        "print (f'I boughts {apples} apples and {oranges} oranges')"
      ],
      "metadata": {
        "colab": {
          "base_uri": "https://localhost:8080/"
        },
        "id": "WLNgr6odJr5V",
        "outputId": "eb2bc0ea-aae9-46fd-c43d-d91f557ca61f"
      },
      "execution_count": null,
      "outputs": [
        {
          "output_type": "stream",
          "name": "stdout",
          "text": [
            "I boughts 40 apples and 20 oranges\n"
          ]
        }
      ]
    },
    {
      "cell_type": "code",
      "source": [
        "# Restrictions on how variable names are declared\n",
        "'''\n",
        "myvar,my_var,_my_var,myVar,MYVAR,myvar2 -- Legalones\n",
        "\n",
        "2myvar,my-var, my var\n",
        "'''"
      ],
      "metadata": {
        "id": "q2h0mpKjJ4gQ"
      },
      "execution_count": null,
      "outputs": []
    },
    {
      "cell_type": "code",
      "source": [
        "x, y, z = 'Orange','Apple','Banana' # Many values to many vaiables\n",
        "\n",
        "print (x)\n",
        "print (y)\n",
        "print (z)"
      ],
      "metadata": {
        "colab": {
          "base_uri": "https://localhost:8080/"
        },
        "id": "OqPUZRSJLqQa",
        "outputId": "fe9a5221-e13a-4eb9-c2ae-560d2de49d43"
      },
      "execution_count": null,
      "outputs": [
        {
          "output_type": "stream",
          "name": "stdout",
          "text": [
            "Orange\n",
            "Apple\n",
            "Banana\n"
          ]
        }
      ]
    },
    {
      "cell_type": "code",
      "source": [
        "x = y = z = 'Grapes' #one value to multiple variables\n",
        "\n",
        "print (x)\n",
        "print (y)\n",
        "print (z)"
      ],
      "metadata": {
        "colab": {
          "base_uri": "https://localhost:8080/"
        },
        "id": "PqE7ZwofMlNB",
        "outputId": "80e71a59-eb0e-4f0f-e066-7275af0618cd"
      },
      "execution_count": null,
      "outputs": [
        {
          "output_type": "stream",
          "name": "stdout",
          "text": [
            "Grapes\n",
            "Grapes\n",
            "Grapes\n"
          ]
        }
      ]
    },
    {
      "cell_type": "code",
      "source": [
        "#unpack a collection\n",
        "\n",
        "fruits = ['apple','banana','Mango']\n",
        "x,y,z = fruits\n",
        "print (x)\n",
        "print (y)\n",
        "print (z)"
      ],
      "metadata": {
        "colab": {
          "base_uri": "https://localhost:8080/"
        },
        "id": "7W2z8YYFM5Zf",
        "outputId": "08ee252b-e9e2-4682-f2dc-5da24e03556a"
      },
      "execution_count": null,
      "outputs": [
        {
          "output_type": "stream",
          "name": "stdout",
          "text": [
            "apple\n",
            "banana\n",
            "Mango\n"
          ]
        }
      ]
    },
    {
      "cell_type": "code",
      "source": [
        "# 1. create collection of 4 names and print using format\n",
        "# 2. Create a varibles names with 4 legal and 4 ilegal\n",
        "# 3. Declare same value to 3 vaiables and convert first variable to string, second to float and third to float. print all three variables"
      ],
      "metadata": {
        "id": "adDO4beENSYs"
      },
      "execution_count": null,
      "outputs": []
    },
    {
      "cell_type": "code",
      "source": [
        "names = ['Ravi','Raju','Ram','Vinay']\n",
        "\n",
        "x,y,z,w = names\n",
        "\n",
        "print (f'The name is {x}')\n",
        "print (f'The name is {y}')\n",
        "print (f'The name is {z}')\n",
        "print (f'The name is {w}')"
      ],
      "metadata": {
        "colab": {
          "base_uri": "https://localhost:8080/"
        },
        "id": "cVEi0uj1MHQn",
        "outputId": "ee982cc2-57c0-4439-9e70-a7687beb0ac3"
      },
      "execution_count": null,
      "outputs": [
        {
          "output_type": "stream",
          "name": "stdout",
          "text": [
            "The name is Ravi\n",
            "The name is Raju\n",
            "The name is Ram\n",
            "The name is Vinay\n"
          ]
        }
      ]
    },
    {
      "cell_type": "code",
      "source": [
        "x=y=z=3\n",
        "print (str(x))\n",
        "print (float(y))\n",
        "print (float(z))"
      ],
      "metadata": {
        "colab": {
          "base_uri": "https://localhost:8080/"
        },
        "id": "0RFBl0y6McCU",
        "outputId": "fb89d673-49cf-4e5d-dd48-ffa299dd4c09"
      },
      "execution_count": null,
      "outputs": [
        {
          "output_type": "stream",
          "name": "stdout",
          "text": [
            "3\n",
            "3.0\n",
            "3.0\n"
          ]
        }
      ]
    },
    {
      "cell_type": "markdown",
      "source": [
        "# print function for multiple variables"
      ],
      "metadata": {
        "id": "cscmXulLNQfU"
      }
    },
    {
      "cell_type": "code",
      "source": [
        "a = 'United' #string\n",
        "b = 'states' #string\n",
        "c = ' '\n",
        "print (a+b) #+ operator is used to concatenate two strings\n",
        "print (a+c+b)\n",
        "print (f'{a} {b}')"
      ],
      "metadata": {
        "colab": {
          "base_uri": "https://localhost:8080/"
        },
        "id": "Uz9zB0YgNAiJ",
        "outputId": "0747e088-63da-4199-9c43-c44bac7a1b48"
      },
      "execution_count": null,
      "outputs": [
        {
          "output_type": "stream",
          "name": "stdout",
          "text": [
            "Unitedstates\n",
            "United states\n",
            "United states\n"
          ]
        }
      ]
    },
    {
      "cell_type": "code",
      "source": [
        "# Qustion is I bought 4 apples as varibales : Concatenate them\n",
        "\n",
        "x = 'I '\n",
        "y = 'bought '\n",
        "z = '4 '\n",
        "w = 'apples'\n",
        "\n",
        "print (x+y+z+w)"
      ],
      "metadata": {
        "colab": {
          "base_uri": "https://localhost:8080/"
        },
        "id": "PC5NX6rYNeVa",
        "outputId": "abac54dd-4a20-41ea-b515-bc9685e718ac"
      },
      "execution_count": null,
      "outputs": [
        {
          "output_type": "stream",
          "name": "stdout",
          "text": [
            "I bought 4 apples\n"
          ]
        }
      ]
    },
    {
      "cell_type": "markdown",
      "source": [
        "## Functions"
      ],
      "metadata": {
        "id": "29U4B3_KPORE"
      }
    },
    {
      "cell_type": "code",
      "source": [
        "'''\n",
        "Scenario : Addition of three numbers\n",
        "\n",
        "1,2,3\n",
        "4,5,6\n",
        "7,8,9\n",
        "'''"
      ],
      "metadata": {
        "id": "ivZCpN16OV3r"
      },
      "execution_count": null,
      "outputs": []
    },
    {
      "cell_type": "code",
      "source": [
        "x = 1\n",
        "y = 2\n",
        "z = 3\n",
        "\n",
        "print (x+y+z)\n",
        "\n",
        "x = 4\n",
        "y = 5\n",
        "z = 6\n",
        "\n",
        "print (x+y+z)\n",
        "\n",
        "x = 7\n",
        "y = 8\n",
        "z = 9\n",
        "\n",
        "print (x+y+z)"
      ],
      "metadata": {
        "colab": {
          "base_uri": "https://localhost:8080/"
        },
        "id": "ie1vtSlKPgZI",
        "outputId": "00830659-7d0a-48d4-b77c-596e76bc2091"
      },
      "execution_count": null,
      "outputs": [
        {
          "output_type": "stream",
          "name": "stdout",
          "text": [
            "6\n",
            "15\n",
            "24\n"
          ]
        }
      ]
    },
    {
      "cell_type": "code",
      "source": [
        "def sum3(x,y,z): # def funcname(arguments) : Function creation\n",
        "  sum = x+y+z\n",
        "  return sum\n",
        "\n",
        "print (sum3(1,2,3)) # function calling\n",
        "print (sum3(4,5,6)) # function calling\n",
        "print (sum3(7,8,9)) # function calling"
      ],
      "metadata": {
        "colab": {
          "base_uri": "https://localhost:8080/"
        },
        "id": "CBwLTthXPtkn",
        "outputId": "ed588e31-a35c-47e5-bade-8c9f6c233357"
      },
      "execution_count": null,
      "outputs": [
        {
          "output_type": "stream",
          "name": "stdout",
          "text": [
            "6\n",
            "15\n",
            "24\n"
          ]
        }
      ]
    },
    {
      "cell_type": "code",
      "source": [
        "# declare a variable with a value awesome and create a function that prints \"Python is awesome\"\n",
        "\n",
        "def func1(a): #varibles that are there in the method are called local variables\n",
        "  x = 'fantastic'\n",
        "  print (f'Python is {a}')\n",
        "\n",
        "x = 'awesome' #varibles that are declared outside the method are called as global variables\n",
        "func1(x)"
      ],
      "metadata": {
        "colab": {
          "base_uri": "https://localhost:8080/"
        },
        "id": "keyjssIqROuv",
        "outputId": "0b7b7ebf-0885-4b2d-df60-84da07b4c76e"
      },
      "execution_count": null,
      "outputs": [
        {
          "output_type": "stream",
          "name": "stdout",
          "text": [
            "Python is awesome\n"
          ]
        }
      ]
    },
    {
      "cell_type": "code",
      "source": [
        "variable = \"awesome\"\n",
        "def print_x(m):\n",
        "    print(\"Python is\",m)\n",
        "\n",
        "print_x(variable)"
      ],
      "metadata": {
        "colab": {
          "base_uri": "https://localhost:8080/"
        },
        "id": "Hv0CXmPbSInx",
        "outputId": "f0353bcf-7286-40d8-cc80-9908c8d1db07"
      },
      "execution_count": null,
      "outputs": [
        {
          "output_type": "stream",
          "name": "stdout",
          "text": [
            "Python is awesome\n"
          ]
        }
      ]
    },
    {
      "cell_type": "code",
      "source": [
        "# python method to find sum and multiplication of three numbers\n",
        "# hint : methodname(2,3,4,'sum')\n",
        "\n",
        "def summul(a,b,c,operation):\n",
        "  if operation == 'sum':\n",
        "    ans = a+b+c\n",
        "\n",
        "  if operation == 'mul':\n",
        "    ans = a*b*c\n",
        "\n",
        "  return ans"
      ],
      "metadata": {
        "id": "mDdPlx6aTh69"
      },
      "execution_count": null,
      "outputs": []
    },
    {
      "cell_type": "code",
      "source": [
        "summul(2,3,4,'sum')"
      ],
      "metadata": {
        "colab": {
          "base_uri": "https://localhost:8080/"
        },
        "id": "wohqoPgrV3Fp",
        "outputId": "922121f7-21d3-4423-f897-ec06cbdff831"
      },
      "execution_count": null,
      "outputs": [
        {
          "output_type": "execute_result",
          "data": {
            "text/plain": [
              "9"
            ]
          },
          "metadata": {},
          "execution_count": 23
        }
      ]
    },
    {
      "cell_type": "code",
      "source": [
        "summul(2,3,4,'mul')"
      ],
      "metadata": {
        "colab": {
          "base_uri": "https://localhost:8080/"
        },
        "id": "bPOc1v3hV8JM",
        "outputId": "ffb18c23-7a71-41c0-9014-4ad26c814487"
      },
      "execution_count": null,
      "outputs": [
        {
          "output_type": "execute_result",
          "data": {
            "text/plain": [
              "24"
            ]
          },
          "metadata": {},
          "execution_count": 24
        }
      ]
    },
    {
      "cell_type": "code",
      "source": [
        "5%2"
      ],
      "metadata": {
        "colab": {
          "base_uri": "https://localhost:8080/"
        },
        "id": "ibkkyoZ4Wzhi",
        "outputId": "ccd9d517-7210-4857-a68e-c7e8d394a73a"
      },
      "execution_count": null,
      "outputs": [
        {
          "output_type": "execute_result",
          "data": {
            "text/plain": [
              "1"
            ]
          },
          "metadata": {},
          "execution_count": 26
        }
      ]
    },
    {
      "cell_type": "code",
      "source": [
        "# python method findevenorodd(45)\n",
        "#Hint : num % 2 == 0 : % Remainder"
      ],
      "metadata": {
        "id": "qR0qca6fV-na"
      },
      "execution_count": null,
      "outputs": []
    },
    {
      "cell_type": "code",
      "source": [
        "def findevenorodd(num):\n",
        "  if (num % 2 == 0):\n",
        "    print ('even')\n",
        "  if (num % 2 != 0):\n",
        "    print ('odd')\n",
        "\n",
        "findevenorodd(444)"
      ],
      "metadata": {
        "colab": {
          "base_uri": "https://localhost:8080/"
        },
        "id": "f0CX45VsX2Ql",
        "outputId": "3aadfdea-929c-4fbc-8292-3cb60524f04b"
      },
      "execution_count": null,
      "outputs": [
        {
          "output_type": "stream",
          "name": "stdout",
          "text": [
            "even\n"
          ]
        }
      ]
    },
    {
      "cell_type": "code",
      "source": [
        "def findevenorodd(num):\n",
        "  if (num % 2 == 0):\n",
        "    result = 'even'\n",
        "  if (num % 2 != 0):\n",
        "    result = 'odd'\n",
        "  return result\n",
        "\n",
        "findevenorodd(444)"
      ],
      "metadata": {
        "colab": {
          "base_uri": "https://localhost:8080/",
          "height": 35
        },
        "id": "cy66geTcYLtv",
        "outputId": "3fed2f07-6564-402d-aa88-1969f06df54f"
      },
      "execution_count": null,
      "outputs": [
        {
          "output_type": "execute_result",
          "data": {
            "text/plain": [
              "'even'"
            ],
            "application/vnd.google.colaboratory.intrinsic+json": {
              "type": "string"
            }
          },
          "metadata": {},
          "execution_count": 28
        }
      ]
    },
    {
      "cell_type": "markdown",
      "source": [
        "## DataTypes in Python"
      ],
      "metadata": {
        "id": "vy5Y8lFHIp8A"
      }
    },
    {
      "cell_type": "code",
      "source": [
        "'''\n",
        "Text type : str\n",
        "NUmeric ical TYpes : int, float, comple\n",
        "Sequene datatypes : list, tuple and range\n",
        "Mapping TYpe : dict\n",
        "settypes : set\n",
        "Boolean Type:\tbool\n",
        "Binary Types:\tbytes, bytearray, memoryview\n",
        "None Type:\tNoneType\n",
        "'''\n",
        "x = 'Dog killed a cat'\n",
        "y = 64\n",
        "z = 75.432\n",
        "m1 = ['aijigr','fhuwhebr','fg'] # list needs to be in square bracket, list can take only strings, only numbers or both\n",
        "m2 = [4,5.67,5.21]\n",
        "m3 = ['deesg',4.4,'gregr']\n",
        "n1 = ()\n",
        "l1 = [i for i in range(10)]\n",
        "l2 = [i for i in range(0,5)] #(start position, end_position)\n",
        "l3 = [i for i in range(0,5,2)]"
      ],
      "metadata": {
        "id": "al95k1Y6YXpU"
      },
      "execution_count": 10,
      "outputs": []
    },
    {
      "cell_type": "code",
      "source": [
        "l1"
      ],
      "metadata": {
        "colab": {
          "base_uri": "https://localhost:8080/"
        },
        "id": "6U-eiBXRKUn5",
        "outputId": "38728275-90d8-493e-fe84-d5fbb17a8dc3"
      },
      "execution_count": 7,
      "outputs": [
        {
          "output_type": "execute_result",
          "data": {
            "text/plain": [
              "[0, 1, 2, 3, 4, 5, 6, 7, 8, 9]"
            ]
          },
          "metadata": {},
          "execution_count": 7
        }
      ]
    },
    {
      "cell_type": "code",
      "source": [
        "l2"
      ],
      "metadata": {
        "colab": {
          "base_uri": "https://localhost:8080/"
        },
        "id": "YmVVAhZ1KhnZ",
        "outputId": "3dc40e95-84ae-4562-e2eb-18a5bfd91b4d"
      },
      "execution_count": 9,
      "outputs": [
        {
          "output_type": "execute_result",
          "data": {
            "text/plain": [
              "[0, 1, 2, 3, 4]"
            ]
          },
          "metadata": {},
          "execution_count": 9
        }
      ]
    },
    {
      "cell_type": "code",
      "source": [
        "l3"
      ],
      "metadata": {
        "colab": {
          "base_uri": "https://localhost:8080/"
        },
        "id": "olNRJd-YK65k",
        "outputId": "6ea8564e-3ea6-4313-891f-31f64f2b0066"
      },
      "execution_count": 11,
      "outputs": [
        {
          "output_type": "execute_result",
          "data": {
            "text/plain": [
              "[0, 2, 4]"
            ]
          },
          "metadata": {},
          "execution_count": 11
        }
      ]
    },
    {
      "cell_type": "code",
      "source": [
        "print(type(x))\n",
        "print(type(y))\n",
        "print(type(z))"
      ],
      "metadata": {
        "colab": {
          "base_uri": "https://localhost:8080/"
        },
        "id": "eyyHTLd5I8A4",
        "outputId": "58cd281c-59a8-4ad9-a462-554f0b8c79c0"
      },
      "execution_count": 5,
      "outputs": [
        {
          "output_type": "stream",
          "name": "stdout",
          "text": [
            "<class 'str'>\n",
            "<class 'int'>\n",
            "<class 'float'>\n"
          ]
        }
      ]
    },
    {
      "cell_type": "code",
      "source": [
        "l2 = [i for i in range(20,40)]\n",
        "l2 = [i for i in range(20,40,4)]"
      ],
      "metadata": {
        "id": "bdLyhD8JI_LH"
      },
      "execution_count": null,
      "outputs": []
    },
    {
      "cell_type": "code",
      "source": [
        "x = 1\n",
        "y = 2.8"
      ],
      "metadata": {
        "id": "Y9Ehc6oWLnRv"
      },
      "execution_count": 12,
      "outputs": []
    },
    {
      "cell_type": "code",
      "source": [
        "type(x)"
      ],
      "metadata": {
        "colab": {
          "base_uri": "https://localhost:8080/"
        },
        "id": "YWTx8ZSWLnOC",
        "outputId": "da0e127c-dbc4-454d-cfbc-8eececaec53f"
      },
      "execution_count": 13,
      "outputs": [
        {
          "output_type": "execute_result",
          "data": {
            "text/plain": [
              "int"
            ]
          },
          "metadata": {},
          "execution_count": 13
        }
      ]
    },
    {
      "cell_type": "code",
      "source": [
        "type(y)"
      ],
      "metadata": {
        "colab": {
          "base_uri": "https://localhost:8080/"
        },
        "id": "hTjczheVMDAI",
        "outputId": "f4bf8358-cb3f-4abe-94a1-932579146cab"
      },
      "execution_count": 14,
      "outputs": [
        {
          "output_type": "execute_result",
          "data": {
            "text/plain": [
              "float"
            ]
          },
          "metadata": {},
          "execution_count": 14
        }
      ]
    },
    {
      "cell_type": "code",
      "source": [
        "a = float(x)\n",
        "b = int(y)"
      ],
      "metadata": {
        "id": "gslytbveMEMf"
      },
      "execution_count": 15,
      "outputs": []
    },
    {
      "cell_type": "code",
      "source": [
        "import random #import is a keyword to call the libraries into your code\n",
        "random.randrange(1,10)"
      ],
      "metadata": {
        "colab": {
          "base_uri": "https://localhost:8080/"
        },
        "id": "BT3qC_w5MR6J",
        "outputId": "446e01d1-0e19-4b99-eb89-1eff5c676fc0"
      },
      "execution_count": 19,
      "outputs": [
        {
          "output_type": "execute_result",
          "data": {
            "text/plain": [
              "2"
            ]
          },
          "metadata": {},
          "execution_count": 19
        }
      ]
    },
    {
      "cell_type": "code",
      "source": [
        "x = \"1\"\n",
        "float(x)"
      ],
      "metadata": {
        "colab": {
          "base_uri": "https://localhost:8080/"
        },
        "id": "8262YCWLMvyZ",
        "outputId": "f73d1648-a096-4666-c805-66d0c1add31a"
      },
      "execution_count": 20,
      "outputs": [
        {
          "output_type": "execute_result",
          "data": {
            "text/plain": [
              "1.0"
            ]
          },
          "metadata": {},
          "execution_count": 20
        }
      ]
    },
    {
      "cell_type": "markdown",
      "source": [
        "## Strings"
      ],
      "metadata": {
        "id": "1A_2XLj0NeXO"
      }
    },
    {
      "cell_type": "code",
      "source": [
        "a = 'Hello'\n",
        "print (a)"
      ],
      "metadata": {
        "colab": {
          "base_uri": "https://localhost:8080/"
        },
        "id": "aLyewNkINMvq",
        "outputId": "a33e906d-3ae0-418c-b398-35f5d1aca58f"
      },
      "execution_count": 21,
      "outputs": [
        {
          "output_type": "stream",
          "name": "stdout",
          "text": [
            "Hello\n"
          ]
        }
      ]
    },
    {
      "cell_type": "code",
      "source": [
        "b = \"\"\"\n",
        "This is a Datascince course\n",
        "We are in batch 2\n",
        "We started with python\n",
        "\"\"\"\n",
        "print (b)"
      ],
      "metadata": {
        "colab": {
          "base_uri": "https://localhost:8080/"
        },
        "id": "1y4vHkceNqcy",
        "outputId": "36db5421-ead1-488a-9af6-50b59e1f54ea"
      },
      "execution_count": 22,
      "outputs": [
        {
          "output_type": "stream",
          "name": "stdout",
          "text": [
            "\n",
            "This is a Datascince course\n",
            "We are in batch 2\n",
            "We started with python\n",
            "\n"
          ]
        }
      ]
    },
    {
      "cell_type": "code",
      "source": [
        "a = \"I like icecream\""
      ],
      "metadata": {
        "id": "h9ni1iO_N63b"
      },
      "execution_count": 23,
      "outputs": []
    },
    {
      "cell_type": "code",
      "source": [
        "a[0]"
      ],
      "metadata": {
        "colab": {
          "base_uri": "https://localhost:8080/",
          "height": 35
        },
        "id": "-nKQwv1XOCMG",
        "outputId": "4cfd1e21-3691-47f7-98b5-762132925d67"
      },
      "execution_count": 24,
      "outputs": [
        {
          "output_type": "execute_result",
          "data": {
            "text/plain": [
              "'I'"
            ],
            "application/vnd.google.colaboratory.intrinsic+json": {
              "type": "string"
            }
          },
          "metadata": {},
          "execution_count": 24
        }
      ]
    },
    {
      "cell_type": "code",
      "source": [
        "len(a)"
      ],
      "metadata": {
        "colab": {
          "base_uri": "https://localhost:8080/"
        },
        "id": "teJKsvOkOQZM",
        "outputId": "dceb1fc9-3ea2-4ec1-9222-2498793f284b"
      },
      "execution_count": 25,
      "outputs": [
        {
          "output_type": "execute_result",
          "data": {
            "text/plain": [
              "15"
            ]
          },
          "metadata": {},
          "execution_count": 25
        }
      ]
    },
    {
      "cell_type": "code",
      "source": [
        "for i in a:\n",
        "  print(i)"
      ],
      "metadata": {
        "colab": {
          "base_uri": "https://localhost:8080/"
        },
        "id": "2aiiWE6LOTpl",
        "outputId": "ab1426ac-3c63-4bae-d79b-619b3e34c510"
      },
      "execution_count": 26,
      "outputs": [
        {
          "output_type": "stream",
          "name": "stdout",
          "text": [
            "I\n",
            " \n",
            "l\n",
            "i\n",
            "k\n",
            "e\n",
            " \n",
            "i\n",
            "c\n",
            "e\n",
            "c\n",
            "r\n",
            "e\n",
            "a\n",
            "m\n"
          ]
        }
      ]
    },
    {
      "cell_type": "code",
      "source": [
        "for i in range(0,len(a)):\n",
        "  print (a[i])"
      ],
      "metadata": {
        "colab": {
          "base_uri": "https://localhost:8080/"
        },
        "id": "4MBIsiy5OhMq",
        "outputId": "1ef45a57-894e-4dd8-ae89-7b0472918cec"
      },
      "execution_count": 28,
      "outputs": [
        {
          "output_type": "stream",
          "name": "stdout",
          "text": [
            "I\n",
            " \n",
            "l\n",
            "i\n",
            "k\n",
            "e\n",
            " \n",
            "i\n",
            "c\n",
            "e\n",
            "c\n",
            "r\n",
            "e\n",
            "a\n",
            "m\n"
          ]
        }
      ]
    },
    {
      "cell_type": "code",
      "source": [
        "a"
      ],
      "metadata": {
        "colab": {
          "base_uri": "https://localhost:8080/",
          "height": 35
        },
        "id": "HZBUwYc3OwUR",
        "outputId": "7db169e6-398f-4a29-d2a7-7d5bbf997d2f"
      },
      "execution_count": 29,
      "outputs": [
        {
          "output_type": "execute_result",
          "data": {
            "text/plain": [
              "'I like icecream'"
            ],
            "application/vnd.google.colaboratory.intrinsic+json": {
              "type": "string"
            }
          },
          "metadata": {},
          "execution_count": 29
        }
      ]
    },
    {
      "cell_type": "code",
      "source": [
        "a.split('like')"
      ],
      "metadata": {
        "colab": {
          "base_uri": "https://localhost:8080/"
        },
        "id": "3sP4Prm4O7Gx",
        "outputId": "62a470b8-1543-479b-d7a9-0e13759cc1ce"
      },
      "execution_count": 32,
      "outputs": [
        {
          "output_type": "execute_result",
          "data": {
            "text/plain": [
              "['I ', ' icecream']"
            ]
          },
          "metadata": {},
          "execution_count": 32
        }
      ]
    },
    {
      "cell_type": "code",
      "source": [
        "str1 = 'My name is Ajay'\n",
        "print(str1.split(' '))"
      ],
      "metadata": {
        "colab": {
          "base_uri": "https://localhost:8080/"
        },
        "id": "MOHizxhHO95E",
        "outputId": "35187bbd-e615-453e-bbbf-e6146c2ff5f5"
      },
      "execution_count": 34,
      "outputs": [
        {
          "output_type": "stream",
          "name": "stdout",
          "text": [
            "['My', 'name', 'is', 'Ajay']\n"
          ]
        }
      ]
    },
    {
      "cell_type": "code",
      "source": [
        "str1 = \"This is a basic class on python\"\n",
        "print (\"class\" in str1)"
      ],
      "metadata": {
        "colab": {
          "base_uri": "https://localhost:8080/"
        },
        "id": "tZXIW0-WPc76",
        "outputId": "5068c72a-0117-4aa8-f15c-dce201f63ccd"
      },
      "execution_count": 37,
      "outputs": [
        {
          "output_type": "stream",
          "name": "stdout",
          "text": [
            "True\n"
          ]
        }
      ]
    },
    {
      "cell_type": "code",
      "source": [
        "if \"class\" in str1:\n",
        "  print ('Yes class is present in the text')"
      ],
      "metadata": {
        "colab": {
          "base_uri": "https://localhost:8080/"
        },
        "id": "CfPSl1uNP4l2",
        "outputId": "d22a321b-50d6-4485-b0c4-dd64a1ed3681"
      },
      "execution_count": 38,
      "outputs": [
        {
          "output_type": "stream",
          "name": "stdout",
          "text": [
            "Yes class is present in the text\n"
          ]
        }
      ]
    },
    {
      "cell_type": "code",
      "source": [
        "print (\"class\" not in str1)"
      ],
      "metadata": {
        "colab": {
          "base_uri": "https://localhost:8080/"
        },
        "id": "rCh4vwVjQYNG",
        "outputId": "6afb24ca-496e-4f8c-fe2b-3619fddf74d6"
      },
      "execution_count": 39,
      "outputs": [
        {
          "output_type": "stream",
          "name": "stdout",
          "text": [
            "False\n"
          ]
        }
      ]
    },
    {
      "cell_type": "code",
      "source": [
        "print ('expensive' not in str1)"
      ],
      "metadata": {
        "colab": {
          "base_uri": "https://localhost:8080/"
        },
        "id": "rzprkTXKQfyQ",
        "outputId": "84226b2b-4909-4fe1-bf52-c934bdcff7fa"
      },
      "execution_count": 41,
      "outputs": [
        {
          "output_type": "stream",
          "name": "stdout",
          "text": [
            "True\n"
          ]
        }
      ]
    },
    {
      "cell_type": "code",
      "source": [
        "str2 = \"hello world\"\n",
        "str2[2:5] #[staartposition:endposition]"
      ],
      "metadata": {
        "colab": {
          "base_uri": "https://localhost:8080/",
          "height": 35
        },
        "id": "gOCNMxh7Qn6M",
        "outputId": "de0df916-6557-4d3e-dd93-7138efd7182d"
      },
      "execution_count": 42,
      "outputs": [
        {
          "output_type": "execute_result",
          "data": {
            "text/plain": [
              "'llo'"
            ],
            "application/vnd.google.colaboratory.intrinsic+json": {
              "type": "string"
            }
          },
          "metadata": {},
          "execution_count": 42
        }
      ]
    },
    {
      "cell_type": "code",
      "source": [
        "str2[:4]"
      ],
      "metadata": {
        "colab": {
          "base_uri": "https://localhost:8080/",
          "height": 35
        },
        "id": "Clh27yKfRCNP",
        "outputId": "5c259c0e-6313-4c49-a3ab-d9c1eaeba7af"
      },
      "execution_count": 43,
      "outputs": [
        {
          "output_type": "execute_result",
          "data": {
            "text/plain": [
              "'hell'"
            ],
            "application/vnd.google.colaboratory.intrinsic+json": {
              "type": "string"
            }
          },
          "metadata": {},
          "execution_count": 43
        }
      ]
    },
    {
      "cell_type": "code",
      "source": [
        "str2[3:]"
      ],
      "metadata": {
        "colab": {
          "base_uri": "https://localhost:8080/",
          "height": 35
        },
        "id": "FOkoQHOcRLSN",
        "outputId": "b38f65e0-aeea-4bb7-84bb-777e618738af"
      },
      "execution_count": 44,
      "outputs": [
        {
          "output_type": "execute_result",
          "data": {
            "text/plain": [
              "'lo world'"
            ],
            "application/vnd.google.colaboratory.intrinsic+json": {
              "type": "string"
            }
          },
          "metadata": {},
          "execution_count": 44
        }
      ]
    },
    {
      "cell_type": "code",
      "source": [
        "str2[-5:-1]"
      ],
      "metadata": {
        "colab": {
          "base_uri": "https://localhost:8080/",
          "height": 35
        },
        "id": "JaOeEe8vRYe7",
        "outputId": "eb0fec2b-07c3-4a69-ca42-21355b851a56"
      },
      "execution_count": 45,
      "outputs": [
        {
          "output_type": "execute_result",
          "data": {
            "text/plain": [
              "'worl'"
            ],
            "application/vnd.google.colaboratory.intrinsic+json": {
              "type": "string"
            }
          },
          "metadata": {},
          "execution_count": 45
        }
      ]
    },
    {
      "cell_type": "code",
      "source": [
        "str2[-1:-2]"
      ],
      "metadata": {
        "colab": {
          "base_uri": "https://localhost:8080/",
          "height": 35
        },
        "id": "WlhPDwxsRjhd",
        "outputId": "101897e2-63bb-4ada-b211-b761205b5d4d"
      },
      "execution_count": 47,
      "outputs": [
        {
          "output_type": "execute_result",
          "data": {
            "text/plain": [
              "''"
            ],
            "application/vnd.google.colaboratory.intrinsic+json": {
              "type": "string"
            }
          },
          "metadata": {},
          "execution_count": 47
        }
      ]
    },
    {
      "cell_type": "code",
      "source": [
        "str2[-1:-5]"
      ],
      "metadata": {
        "colab": {
          "base_uri": "https://localhost:8080/",
          "height": 35
        },
        "id": "p-qOE0pvRpQZ",
        "outputId": "85b2b0ed-07c2-4ee7-ee96-588a07e4df12"
      },
      "execution_count": 48,
      "outputs": [
        {
          "output_type": "execute_result",
          "data": {
            "text/plain": [
              "''"
            ],
            "application/vnd.google.colaboratory.intrinsic+json": {
              "type": "string"
            }
          },
          "metadata": {},
          "execution_count": 48
        }
      ]
    },
    {
      "cell_type": "code",
      "source": [
        "str3 = \"Rama killed Ravana\"\n",
        "str3.upper()"
      ],
      "metadata": {
        "colab": {
          "base_uri": "https://localhost:8080/",
          "height": 35
        },
        "id": "UeWFXltlR0r1",
        "outputId": "21e5fce4-875b-4c64-c905-fa4fe9f49acb"
      },
      "execution_count": 49,
      "outputs": [
        {
          "output_type": "execute_result",
          "data": {
            "text/plain": [
              "'RAMA KILLED RAVANA'"
            ],
            "application/vnd.google.colaboratory.intrinsic+json": {
              "type": "string"
            }
          },
          "metadata": {},
          "execution_count": 49
        }
      ]
    },
    {
      "cell_type": "code",
      "source": [
        "str3.lower()"
      ],
      "metadata": {
        "colab": {
          "base_uri": "https://localhost:8080/",
          "height": 35
        },
        "id": "bLGCyG92SJFU",
        "outputId": "5e97bf9b-d692-48bb-f28b-f7fc46494009"
      },
      "execution_count": 50,
      "outputs": [
        {
          "output_type": "execute_result",
          "data": {
            "text/plain": [
              "'rama killed ravana'"
            ],
            "application/vnd.google.colaboratory.intrinsic+json": {
              "type": "string"
            }
          },
          "metadata": {},
          "execution_count": 50
        }
      ]
    },
    {
      "cell_type": "code",
      "source": [
        "str3.replace('Rama','King od Ayodhya')"
      ],
      "metadata": {
        "colab": {
          "base_uri": "https://localhost:8080/",
          "height": 35
        },
        "id": "gzrvXui8SMGW",
        "outputId": "9b3d92e2-4dfb-4380-d540-ecbfecfb9c52"
      },
      "execution_count": 51,
      "outputs": [
        {
          "output_type": "execute_result",
          "data": {
            "text/plain": [
              "'King od Ayodhya killed Ravana'"
            ],
            "application/vnd.google.colaboratory.intrinsic+json": {
              "type": "string"
            }
          },
          "metadata": {},
          "execution_count": 51
        }
      ]
    },
    {
      "cell_type": "code",
      "source": [
        "str3 = \"rama killed Ravana\"\n",
        "str3.upper()"
      ],
      "metadata": {
        "colab": {
          "base_uri": "https://localhost:8080/",
          "height": 35
        },
        "id": "K2kyXgYrSShj",
        "outputId": "c58fc805-ff01-432e-ce7e-0a9d83cafde5"
      },
      "execution_count": 55,
      "outputs": [
        {
          "output_type": "execute_result",
          "data": {
            "text/plain": [
              "'RAMA KILLED RAVANA'"
            ],
            "application/vnd.google.colaboratory.intrinsic+json": {
              "type": "string"
            }
          },
          "metadata": {},
          "execution_count": 55
        }
      ]
    },
    {
      "cell_type": "code",
      "source": [
        "str3.capitalize()"
      ],
      "metadata": {
        "colab": {
          "base_uri": "https://localhost:8080/",
          "height": 35
        },
        "id": "azOg4i-ISfZW",
        "outputId": "106be36b-f70d-43d3-ec92-60f506eb14f3"
      },
      "execution_count": 56,
      "outputs": [
        {
          "output_type": "execute_result",
          "data": {
            "text/plain": [
              "'Rama killed ravana'"
            ],
            "application/vnd.google.colaboratory.intrinsic+json": {
              "type": "string"
            }
          },
          "metadata": {},
          "execution_count": 56
        }
      ]
    },
    {
      "cell_type": "code",
      "source": [
        "a = 'Hello'\n",
        "b = 'World'"
      ],
      "metadata": {
        "id": "8DgwBCE-SxRH"
      },
      "execution_count": 58,
      "outputs": []
    },
    {
      "cell_type": "code",
      "source": [
        "a + b"
      ],
      "metadata": {
        "colab": {
          "base_uri": "https://localhost:8080/",
          "height": 35
        },
        "id": "ABqqdR7DTAYU",
        "outputId": "ac8acb7a-26fe-4cc9-87a7-e9d589af0cb8"
      },
      "execution_count": 59,
      "outputs": [
        {
          "output_type": "execute_result",
          "data": {
            "text/plain": [
              "'HelloWorld'"
            ],
            "application/vnd.google.colaboratory.intrinsic+json": {
              "type": "string"
            }
          },
          "metadata": {},
          "execution_count": 59
        }
      ]
    },
    {
      "cell_type": "code",
      "source": [
        "a + ' ' + b"
      ],
      "metadata": {
        "colab": {
          "base_uri": "https://localhost:8080/",
          "height": 35
        },
        "id": "Ewo0dY3rTcs8",
        "outputId": "9359d066-a7d4-4a9e-e517-e86f8d416036"
      },
      "execution_count": 60,
      "outputs": [
        {
          "output_type": "execute_result",
          "data": {
            "text/plain": [
              "'Hello World'"
            ],
            "application/vnd.google.colaboratory.intrinsic+json": {
              "type": "string"
            }
          },
          "metadata": {},
          "execution_count": 60
        }
      ]
    },
    {
      "cell_type": "code",
      "source": [
        "x = 5"
      ],
      "metadata": {
        "id": "cYLAFJmfThNV"
      },
      "execution_count": 61,
      "outputs": []
    },
    {
      "cell_type": "code",
      "source": [
        "print (f'I bought {x} apples')"
      ],
      "metadata": {
        "colab": {
          "base_uri": "https://localhost:8080/"
        },
        "id": "U16PnL3GTmWE",
        "outputId": "941e2c95-7fdf-4bd7-ef4a-933e68947fd0"
      },
      "execution_count": 62,
      "outputs": [
        {
          "output_type": "stream",
          "name": "stdout",
          "text": [
            "I bought 5 apples\n"
          ]
        }
      ]
    },
    {
      "cell_type": "code",
      "source": [
        "str4 = 'I bought {} apples'\n",
        "str4.format(x)"
      ],
      "metadata": {
        "colab": {
          "base_uri": "https://localhost:8080/",
          "height": 35
        },
        "id": "JmIuBW-kTtgn",
        "outputId": "c6e03d4d-27c1-49d7-b5dc-73af6400a312"
      },
      "execution_count": 63,
      "outputs": [
        {
          "output_type": "execute_result",
          "data": {
            "text/plain": [
              "'I bought 5 apples'"
            ],
            "application/vnd.google.colaboratory.intrinsic+json": {
              "type": "string"
            }
          },
          "metadata": {},
          "execution_count": 63
        }
      ]
    },
    {
      "cell_type": "code",
      "source": [
        "'''\n",
        "Method\tDescription\n",
        "capitalize()\tConverts the first character to upper case\n",
        "casefold()\tConverts string into lower case\n",
        "center()\tReturns a centered string\n",
        "count()\tReturns the number of times a specified value occurs in a string\n",
        "encode()\tReturns an encoded version of the string\n",
        "endswith()\tReturns true if the string ends with the specified value\n",
        "expandtabs()\tSets the tab size of the string\n",
        "find()\tSearches the string for a specified value and returns the position of where it was found\n",
        "format()\tFormats specified values in a string\n",
        "format_map()\tFormats specified values in a string\n",
        "index()\tSearches the string for a specified value and returns the position of where it was found\n",
        "isalnum()\tReturns True if all characters in the string are alphanumeric\n",
        "isalpha()\tReturns True if all characters in the string are in the alphabet\n",
        "isascii()\tReturns True if all characters in the string are ascii characters\n",
        "isdecimal()\tReturns True if all characters in the string are decimals\n",
        "isdigit()\tReturns True if all characters in the string are digits\n",
        "isidentifier()\tReturns True if the string is an identifier\n",
        "islower()\tReturns True if all characters in the string are lower case\n",
        "isnumeric()\tReturns True if all characters in the string are numeric\n",
        "isprintable()\tReturns True if all characters in the string are printable\n",
        "isspace()\tReturns True if all characters in the string are whitespaces\n",
        "istitle()\tReturns True if the string follows the rules of a title\n",
        "isupper()\tReturns True if all characters in the string are upper case\n",
        "join()\tJoins the elements of an iterable to the end of the string\n",
        "ljust()\tReturns a left justified version of the string\n",
        "lower()\tConverts a string into lower case\n",
        "lstrip()\tReturns a left trim version of the string\n",
        "maketrans()\tReturns a translation table to be used in translations\n",
        "partition()\tReturns a tuple where the string is parted into three parts\n",
        "replace()\tReturns a string where a specified value is replaced with a specified value\n",
        "rfind()\tSearches the string for a specified value and returns the last position of where it was found\n",
        "rindex()\tSearches the string for a specified value and returns the last position of where it was found\n",
        "rjust()\tReturns a right justified version of the string\n",
        "rpartition()\tReturns a tuple where the string is parted into three parts\n",
        "rsplit()\tSplits the string at the specified separator, and returns a list\n",
        "rstrip()\tReturns a right trim version of the string\n",
        "split()\tSplits the string at the specified separator, and returns a list\n",
        "splitlines()\tSplits the string at line breaks and returns a list\n",
        "startswith()\tReturns true if the string starts with the specified value\n",
        "strip()\tReturns a trimmed version of the string\n",
        "swapcase()\tSwaps cases, lower case becomes upper case and vice versa\n",
        "title()\tConverts the first character of each word to upper case\n",
        "translate()\tReturns a translated string\n",
        "upper()\tConverts a string into upper case\n",
        "zfill()\tFills the string with a specified number of 0 values at the beginning\n",
        "'''"
      ],
      "metadata": {
        "id": "iQX2N6xIT4wg"
      },
      "execution_count": null,
      "outputs": []
    },
    {
      "cell_type": "markdown",
      "source": [
        "##Boolean Operators"
      ],
      "metadata": {
        "id": "BYuTvgmhUUZJ"
      }
    },
    {
      "cell_type": "code",
      "source": [
        "print (10 > 5)"
      ],
      "metadata": {
        "colab": {
          "base_uri": "https://localhost:8080/"
        },
        "id": "8sDgeh_oUXjn",
        "outputId": "f0ee2b25-bef3-4e76-ae24-c8e469fe3976"
      },
      "execution_count": 64,
      "outputs": [
        {
          "output_type": "stream",
          "name": "stdout",
          "text": [
            "True\n"
          ]
        }
      ]
    },
    {
      "cell_type": "code",
      "source": [
        "print (10 == 9)"
      ],
      "metadata": {
        "colab": {
          "base_uri": "https://localhost:8080/"
        },
        "id": "_Vho1TnjUeWX",
        "outputId": "c4cce145-ed31-44cc-afa1-2e23b6de76d8"
      },
      "execution_count": 65,
      "outputs": [
        {
          "output_type": "stream",
          "name": "stdout",
          "text": [
            "False\n"
          ]
        }
      ]
    },
    {
      "cell_type": "code",
      "source": [
        "print (10<9)"
      ],
      "metadata": {
        "colab": {
          "base_uri": "https://localhost:8080/"
        },
        "id": "uPVKCp_5UhCV",
        "outputId": "e884f0ac-90cb-4b5e-81c7-d35f133ec07f"
      },
      "execution_count": 66,
      "outputs": [
        {
          "output_type": "stream",
          "name": "stdout",
          "text": [
            "False\n"
          ]
        }
      ]
    },
    {
      "cell_type": "code",
      "source": [
        "a = 200\n",
        "b = 13\n",
        "if b >a:\n",
        "  print ('hi')\n",
        "else:\n",
        "  print ('hello')"
      ],
      "metadata": {
        "colab": {
          "base_uri": "https://localhost:8080/"
        },
        "id": "dnY10xxwUj55",
        "outputId": "a9ec0403-61f0-4334-ea1f-20aec3f067ad"
      },
      "execution_count": 67,
      "outputs": [
        {
          "output_type": "stream",
          "name": "stdout",
          "text": [
            "hello\n"
          ]
        }
      ]
    },
    {
      "cell_type": "code",
      "source": [
        "def evenodd(x):\n",
        "  for j in x:\n",
        "\n",
        "    if j % 2 == 0:\n",
        "      print (j)\n",
        "\n",
        "\n",
        "\n",
        "l1 = [i for i in range(0,10)]\n",
        "evenodd(l1)"
      ],
      "metadata": {
        "colab": {
          "base_uri": "https://localhost:8080/"
        },
        "id": "DEPsaa1QVQQH",
        "outputId": "d0479815-9002-40eb-be5a-22138fda7ec3"
      },
      "execution_count": 68,
      "outputs": [
        {
          "output_type": "stream",
          "name": "stdout",
          "text": [
            "0\n",
            "2\n",
            "4\n",
            "6\n",
            "8\n"
          ]
        }
      ]
    },
    {
      "cell_type": "code",
      "source": [],
      "metadata": {
        "id": "ZmzzT_EcWcwt"
      },
      "execution_count": null,
      "outputs": []
    }
  ]
}